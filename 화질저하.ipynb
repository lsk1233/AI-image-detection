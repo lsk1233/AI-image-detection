{
  "nbformat": 4,
  "nbformat_minor": 0,
  "metadata": {
    "colab": {
      "provenance": []
    },
    "kernelspec": {
      "name": "python3",
      "display_name": "Python 3"
    },
    "language_info": {
      "name": "python"
    }
  },
  "cells": [
    {
      "cell_type": "code",
      "source": [
        "from google.colab import drive\n",
        "drive.mount('/content/drive')"
      ],
      "metadata": {
        "colab": {
          "base_uri": "https://localhost:8080/"
        },
        "id": "m6INQc9J9r5E",
        "outputId": "633d63ab-ed0d-4ad5-d1a8-60740589dd6e"
      },
      "execution_count": null,
      "outputs": [
        {
          "output_type": "stream",
          "name": "stdout",
          "text": [
            "Mounted at /content/drive\n"
          ]
        }
      ]
    },
    {
      "cell_type": "code",
      "execution_count": null,
      "metadata": {
        "colab": {
          "base_uri": "https://localhost:8080/"
        },
        "id": "F5m3yCXb81f1",
        "outputId": "dd6488ce-9a0a-4e0f-e90b-4cd15ad411b4"
      },
      "outputs": [
        {
          "output_type": "stream",
          "name": "stderr",
          "text": [
            "<ipython-input-11-0aa86ee92a19>:12: DeprecationWarning: ANTIALIAS is deprecated and will be removed in Pillow 10 (2023-07-01). Use LANCZOS or Resampling.LANCZOS instead.\n",
            "  img = img.resize((basewidth, hsize), Image.ANTIALIAS)\n"
          ]
        }
      ],
      "source": [
        "import os\n",
        "from PIL import Image\n",
        "\n",
        "def compress_image(input_image_path, output_image_path, quality=20):\n",
        "    # 이미지 열기\n",
        "    img = Image.open(input_image_path)\n",
        "\n",
        "    # 이미지를 원하는 해상도로 조정\n",
        "    basewidth = 256  # 원하는 너비 설정\n",
        "    wpercent = (basewidth / float(img.size[0]))\n",
        "    hsize = int((float(img.size[1]) * float(wpercent)))\n",
        "    img = img.resize((basewidth, hsize), Image.ANTIALIAS)\n",
        "\n",
        "    # 이미지 저장 (저용량으로 압축)\n",
        "    img.save(output_image_path, optimize=True, quality=quality)\n",
        "\n",
        "# 폴더 경로 설정\n",
        "folder_path = '/content/drive/MyDrive/Colab Notebooks/패턴인식이미지데이터/original/real'\n",
        "output_folder_path = '/content/drive/MyDrive/Colab Notebooks/패턴인식이미지데이터/original/real'\n",
        "\n",
        "# 폴더가 없다면 생성\n",
        "if not os.path.exists(output_folder_path):\n",
        "    os.makedirs(output_folder_path)\n",
        "\n",
        "# 폴더 안의 모든 파일에 대해 함수 호출\n",
        "for filename in os.listdir(folder_path):\n",
        "    if filename.endswith(\".png\"):\n",
        "        input_path = os.path.join(folder_path, filename)\n",
        "        output_path = os.path.join(output_folder_path, 'low_' + filename)\n",
        "        compress_image(input_path, output_path, quality=20)\n"
      ]
    }
  ]
}